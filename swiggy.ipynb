{
  "nbformat": 4,
  "nbformat_minor": 0,
  "metadata": {
    "colab": {
      "provenance": []
    },
    "kernelspec": {
      "name": "python3",
      "display_name": "Python 3"
    },
    "language_info": {
      "name": "python"
    }
  },
  "cells": [
    {
      "cell_type": "code",
      "execution_count": null,
      "metadata": {
        "id": "yj-zkIUjgozD"
      },
      "outputs": [],
      "source": [
        "import pandas as pd"
      ]
    },
    {
      "cell_type": "code",
      "source": [
        "food = pd.read_csv(\"Food.csv\")\n",
        "menu = pd.read_csv(\"Menu.csv\")\n",
        "orders = pd.read_csv(\"Orders.csv\")\n",
        "restaurant = pd.read_csv(\"Restaurant.csv\")\n",
        "users = pd.read_csv(\"Users.csv\")"
      ],
      "metadata": {
        "id": "t0UtMHbVhmQU"
      },
      "execution_count": null,
      "outputs": []
    },
    {
      "cell_type": "code",
      "source": [
        "data_quality_report = {\n",
        "    \"Food\": food.isnull().sum(),\n",
        "    \"Menu\": menu.isnull().sum(),\n",
        "    \"Orders\": orders.isnull().sum(),\n",
        "    \"Restaurant\": restaurant.isnull().sum(),\n",
        "    \"Users\": users.isnull().sum(),\n",
        "}\n",
        "data_quality_report"
      ],
      "metadata": {
        "colab": {
          "base_uri": "https://localhost:8080/"
        },
        "id": "luvS8vy2ieYP",
        "outputId": "c4f856f1-013a-40c3-d20d-54ddce3623e2"
      },
      "execution_count": null,
      "outputs": [
        {
          "output_type": "execute_result",
          "data": {
            "text/plain": [
              "{'Food': Food_id      0\n",
              " Item         0\n",
              " Food_Type    0\n",
              " dtype: int64,\n",
              " 'Menu': Menu_id          0\n",
              " Restaurant_id    0\n",
              " Food_id          0\n",
              " Cuisine          0\n",
              " Price            0\n",
              " dtype: int64,\n",
              " 'Orders': order_date          0\n",
              " Sales_QTY           0\n",
              " Sales_amount        0\n",
              " currency            0\n",
              " User_id             0\n",
              " Restaurant_id    1617\n",
              " dtype: int64,\n",
              " 'Restaurant': Restaurant_id    0\n",
              " Name             0\n",
              " Country          0\n",
              " City             0\n",
              " Rating           0\n",
              " Rating_count     0\n",
              " Cuisine          0\n",
              " dtype: int64,\n",
              " 'Users': User_id           0\n",
              " Name              0\n",
              " Age               0\n",
              " Gender            0\n",
              " Marital Status    0\n",
              " Occupation        0\n",
              " dtype: int64}"
            ]
          },
          "metadata": {},
          "execution_count": 3
        }
      ]
    },
    {
      "cell_type": "code",
      "source": [
        "data_shapes = {\n",
        "    \"Food\": food.shape,\n",
        "    \"Menu\": menu.shape,\n",
        "    \"Orders\": orders.shape,\n",
        "    \"Restaurant\": restaurant.shape,\n",
        "    \"Users\": users.shape,\n",
        "}\n",
        "data_shapes"
      ],
      "metadata": {
        "colab": {
          "base_uri": "https://localhost:8080/"
        },
        "id": "FNngszBfim44",
        "outputId": "c1711017-5ce3-46d6-bfb9-9021e36294f2"
      },
      "execution_count": null,
      "outputs": [
        {
          "output_type": "execute_result",
          "data": {
            "text/plain": [
              "{'Food': (371552, 3),\n",
              " 'Menu': (1048574, 5),\n",
              " 'Orders': (150281, 6),\n",
              " 'Restaurant': (148454, 7),\n",
              " 'Users': (100000, 6)}"
            ]
          },
          "metadata": {},
          "execution_count": 4
        }
      ]
    },
    {
      "cell_type": "code",
      "source": [
        "# Drop rows with null Restaurant_id from Orders\n",
        "orders_clean = orders.dropna(subset=['Restaurant_id'])"
      ],
      "metadata": {
        "id": "hmyvUFBritAV"
      },
      "execution_count": null,
      "outputs": []
    },
    {
      "cell_type": "code",
      "source": [
        "# Verify proper data types for join\n",
        "orders_clean['Restaurant_id'] = orders_clean['Restaurant_id'].astype(int)"
      ],
      "metadata": {
        "colab": {
          "base_uri": "https://localhost:8080/"
        },
        "id": "7zxxFFL5i0RE",
        "outputId": "3d4023f9-39f5-49b1-82a4-c4c661f5fbf3"
      },
      "execution_count": null,
      "outputs": [
        {
          "output_type": "stream",
          "name": "stderr",
          "text": [
            "<ipython-input-6-286eba8bd0b7>:2: SettingWithCopyWarning: \n",
            "A value is trying to be set on a copy of a slice from a DataFrame.\n",
            "Try using .loc[row_indexer,col_indexer] = value instead\n",
            "\n",
            "See the caveats in the documentation: https://pandas.pydata.org/pandas-docs/stable/user_guide/indexing.html#returning-a-view-versus-a-copy\n",
            "  orders_clean['Restaurant_id'] = orders_clean['Restaurant_id'].astype(int)\n"
          ]
        }
      ]
    },
    {
      "cell_type": "code",
      "source": [
        "master = (\n",
        "    orders_clean\n",
        "    .merge(users, on='User_id', how='left')\n",
        "    .merge(restaurant, on='Restaurant_id', how='left')\n",
        "    .merge(menu, on='Restaurant_id', how='left')\n",
        "    .merge(food, on='Food_id', how='left')\n",
        ")"
      ],
      "metadata": {
        "id": "jwxbk-uti2uS"
      },
      "execution_count": null,
      "outputs": []
    },
    {
      "cell_type": "code",
      "source": [
        "master.to_csv('swiggy_master.csv', index=False)"
      ],
      "metadata": {
        "id": "drmn5NyNi6hE"
      },
      "execution_count": null,
      "outputs": []
    }
  ]
}